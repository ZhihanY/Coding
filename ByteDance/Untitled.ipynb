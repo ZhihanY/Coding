{
 "cells": [
  {
   "cell_type": "code",
   "execution_count": null,
   "metadata": {},
   "outputs": [],
   "source": [
    "#字节跳动2020秋招笔试\n",
    "#闹钟问题"
   ]
  },
  {
   "cell_type": "code",
   "execution_count": null,
   "metadata": {},
   "outputs": [],
   "source": [
    "'''\n",
    "小明总是睡过头，所以他定了很多闹钟，只有在闹钟响的时候他才会醒过来并且决定起不起来。\n",
    "从他起床算起他需要X分钟到达教室，上课时间为当天的A时B分，请问他最晚可以什么时候起床。\n",
    "每个输入包含一个测试用例\n",
    "\n",
    "每个测试用例的第一行包含一个整数，表示闹钟的数量N（N <= 100）\n",
    "\n",
    "接下来的N行每行包含两个整数，表示这个闹钟响起的时间为Hi（0 <= A < 24）时Mi（0 <= B < 60）分\n",
    "\n",
    "接下来的一行包含一个整数，表示从他起床算起他需要X（0 <= X <= 100）分钟到达教室\n",
    "\n",
    "接下来的一行包含两个整数，表示上课时间为A（0 <= A < 24）时B（0 <= B < 60）分\n",
    "\n",
    "数据保证至少有一个闹钟可以让牛牛及时到达教室\n",
    "\n",
    "输出两个整数表示牛牛最晚起床时间\n",
    "示例1：（输入输出示例仅供调试，后台判题数据一般不包含示例）\n",
    "\n",
    "输入：\n",
    "\n",
    "3\n",
    "5 0\n",
    "6 0\n",
    "7 0\n",
    "59\n",
    "6 59\n",
    "\n",
    "输出：\n",
    "\n",
    "6 0\n",
    "————————————————\n",
    "版权声明：本文为CSDN博主「Au-csdn」的原创文章，遵循 CC 4.0 BY-SA 版权协议，转载请附上原文出处链接及本声明。\n",
    "原文链接：https://blog.csdn.net/hzj1998/java/article/details/99285786"
   ]
  },
  {
   "cell_type": "code",
   "execution_count": null,
   "metadata": {},
   "outputs": [],
   "source": []
  },
  {
   "cell_type": "code",
   "execution_count": null,
   "metadata": {},
   "outputs": [],
   "source": []
  },
  {
   "cell_type": "code",
   "execution_count": null,
   "metadata": {},
   "outputs": [],
   "source": []
  },
  {
   "cell_type": "code",
   "execution_count": null,
   "metadata": {},
   "outputs": [],
   "source": []
  },
  {
   "cell_type": "code",
   "execution_count": null,
   "metadata": {},
   "outputs": [],
   "source": []
  },
  {
   "cell_type": "code",
   "execution_count": null,
   "metadata": {},
   "outputs": [],
   "source": []
  }
 ],
 "metadata": {
  "kernelspec": {
   "display_name": "Python 3",
   "language": "python",
   "name": "python3"
  },
  "language_info": {
   "codemirror_mode": {
    "name": "ipython",
    "version": 3
   },
   "file_extension": ".py",
   "mimetype": "text/x-python",
   "name": "python",
   "nbconvert_exporter": "python",
   "pygments_lexer": "ipython3",
   "version": "3.6.10"
  },
  "toc": {
   "base_numbering": 1,
   "nav_menu": {},
   "number_sections": true,
   "sideBar": true,
   "skip_h1_title": false,
   "title_cell": "Table of Contents",
   "title_sidebar": "Contents",
   "toc_cell": false,
   "toc_position": {},
   "toc_section_display": true,
   "toc_window_display": false
  }
 },
 "nbformat": 4,
 "nbformat_minor": 4
}
