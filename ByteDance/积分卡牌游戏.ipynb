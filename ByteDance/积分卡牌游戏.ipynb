{
 "cells": [
  {
   "cell_type": "code",
   "execution_count": null,
   "metadata": {},
   "outputs": [],
   "source": [
    "#字节跳动2019届笔试\n",
    "#积分卡牌游戏"
   ]
  },
  {
   "cell_type": "code",
   "execution_count": null,
   "metadata": {},
   "outputs": [],
   "source": [
    "'''\n",
    "\n",
    "3. 小a和小b玩一个游戏，有n张卡牌，每张上面有两个正整数x，y。取一张牌时，个人积分增加x，团队积分增加y。\n",
    "求小a，小b各取若干张牌，使得他们的个人积分相等，且团队积分最大。\n",
    "\n",
    "输入描述：\n",
    "\n",
    "第一行n\n",
    "\n",
    "接下来n行，每行两个正整数x，y\n",
    "\n",
    "输出描述：\n",
    "\n",
    "一行一个整数\n",
    "\n",
    "表示小a的积分和小b的积分相等时，团队积分的最大值\n",
    "\n",
    "例：输入\n",
    "\n",
    "4\n",
    "\n",
    "3 1\n",
    "\n",
    "2 2\n",
    "\n",
    "1 4\n",
    "\n",
    "1 4\n",
    "\n",
    "输出：10\n",
    "\n",
    "说明：当a抽取（2,2），b抽取（1,4），（1,4）时，两人个人积分都是2，团队积分最大，为10分\n",
    "————————————————\n",
    "版权声明：本文为CSDN博主「Jeff_Winger」的原创文章，遵循 CC 4.0 BY-SA 版权协议，转载请附上原文出处链接及本声明。\n",
    "原文链接：https://blog.csdn.net/Jeff_Winger/java/article/details/81773827\n",
    "'''"
   ]
  },
  {
   "cell_type": "code",
   "execution_count": null,
   "metadata": {},
   "outputs": [],
   "source": [
    "# coding:utf-8\n",
    "n = int(input())\n",
    "x, y = [], []\n",
    " \n",
    "for i in range(n):\n",
    "    _x, _y = list(map(int, input().split()))\n",
    "    x.append(_x)\n",
    "    y.append(_y)\n",
    "\n",
    "xy = list(zip(x, y))\n",
    "# print(xy)\n",
    "# 根据y的值进行排序\n",
    "xy = sorted(xy, key=lambda t: t[1])\n",
    "# print xy\n",
    " \n",
    "ret = 0\n",
    "# 如果所有 x 的和为偶数\n",
    "# 直接输出所有 y 的和\n",
    "if sum(x) % 2 == 0:\n",
    "    print(sum(y))\n",
    "else:\n",
    "    for i in range(len(xy)):\n",
    "        if xy[i][0] % 2 == 1:\n",
    "            # j只取偶数，排除掉x中的奇数项\n",
    "            ret = sum([xy[j][1] for j in range(len(xy)) if j != i])\n",
    "            print(ret)\n",
    "            break\n"
   ]
  },
  {
   "cell_type": "code",
   "execution_count": 2,
   "metadata": {
    "ExecuteTime": {
     "end_time": "2020-04-12T10:09:10.820814Z",
     "start_time": "2020-04-12T10:09:10.809844Z"
    }
   },
   "outputs": [
    {
     "data": {
      "text/plain": [
       "3"
      ]
     },
     "execution_count": 2,
     "metadata": {},
     "output_type": "execute_result"
    }
   ],
   "source": [
    "x = [1,2,3]\n",
    "y = [3,2,1]\n",
    "len(list(zip(x,y)))\n"
   ]
  },
  {
   "cell_type": "code",
   "execution_count": null,
   "metadata": {},
   "outputs": [],
   "source": []
  },
  {
   "cell_type": "code",
   "execution_count": null,
   "metadata": {},
   "outputs": [],
   "source": []
  },
  {
   "cell_type": "code",
   "execution_count": null,
   "metadata": {},
   "outputs": [],
   "source": []
  },
  {
   "cell_type": "code",
   "execution_count": null,
   "metadata": {},
   "outputs": [],
   "source": []
  },
  {
   "cell_type": "code",
   "execution_count": null,
   "metadata": {},
   "outputs": [],
   "source": []
  },
  {
   "cell_type": "code",
   "execution_count": null,
   "metadata": {},
   "outputs": [],
   "source": []
  },
  {
   "cell_type": "code",
   "execution_count": null,
   "metadata": {},
   "outputs": [],
   "source": []
  },
  {
   "cell_type": "code",
   "execution_count": null,
   "metadata": {},
   "outputs": [],
   "source": []
  },
  {
   "cell_type": "code",
   "execution_count": null,
   "metadata": {},
   "outputs": [],
   "source": []
  },
  {
   "cell_type": "code",
   "execution_count": null,
   "metadata": {},
   "outputs": [],
   "source": []
  },
  {
   "cell_type": "code",
   "execution_count": null,
   "metadata": {},
   "outputs": [],
   "source": []
  },
  {
   "cell_type": "code",
   "execution_count": null,
   "metadata": {},
   "outputs": [],
   "source": []
  }
 ],
 "metadata": {
  "kernelspec": {
   "display_name": "Python 3",
   "language": "python",
   "name": "python3"
  },
  "language_info": {
   "codemirror_mode": {
    "name": "ipython",
    "version": 3
   },
   "file_extension": ".py",
   "mimetype": "text/x-python",
   "name": "python",
   "nbconvert_exporter": "python",
   "pygments_lexer": "ipython3",
   "version": "3.6.10"
  },
  "toc": {
   "base_numbering": 1,
   "nav_menu": {},
   "number_sections": true,
   "sideBar": true,
   "skip_h1_title": false,
   "title_cell": "Table of Contents",
   "title_sidebar": "Contents",
   "toc_cell": false,
   "toc_position": {},
   "toc_section_display": true,
   "toc_window_display": false
  }
 },
 "nbformat": 4,
 "nbformat_minor": 4
}
