{
 "cells": [
  {
   "cell_type": "code",
   "execution_count": null,
   "metadata": {},
   "outputs": [],
   "source": [
    "#字节跳动2019届校招笔试"
   ]
  },
  {
   "cell_type": "code",
   "execution_count": null,
   "metadata": {},
   "outputs": [],
   "source": [
    "'''\n",
    "1.世界杯开幕式会在球场C举行，球场C的球迷看台可以容纳M*N个球迷。在球场售票完成后，\n",
    "现官方想统计此次开幕式一共有多少个球队球迷群体，最大的球队球迷群体有多少人。\n",
    "\n",
    "经调研发现，球迷群体在选座时有以下特性：\n",
    "\n",
    "同球队的球迷群体会选择相邻座位，不同球队的球迷群体会选择不相邻的座位（注解：相邻包括前后相邻，左右相邻，斜对角相邻）\n",
    "\n",
    "给定一个M*N的二维球场，0代表该位置没有坐人，1代表该位置已有选择，希望输出球队群体个数P，最大的球队群体人数Q\n",
    "\n",
    "输入描述：\n",
    "\n",
    "第一行，2个数字，M及N，使用英文逗号分隔\n",
    "\n",
    "接下来M行，每行N的数字，使用英文逗号分隔\n",
    "\n",
    "输出描述：\n",
    "\n",
    "一行，2个数字，P及Q，使用英文逗号分隔\n",
    "\n",
    "其中P表示球队群体个数，Q表示最大的球队群体人数\n",
    "\n",
    "例：输入\n",
    "\n",
    "10，10\n",
    "\n",
    "0,0,0,0,0,0,0,0,0,0\n",
    "\n",
    "0,0,0,1,1,0,1,0,0,0\n",
    "\n",
    "0,1,0,0,0,0,0,1,0,1\n",
    "\n",
    "1,0,0,0,0,0,0,0,1,1\n",
    "\n",
    "0,0,0,1,1,1,0,0,0,1\n",
    "\n",
    "0,0,0,0,0,0,1,0,1,1\n",
    "\n",
    "0,1,1,0,0,0,0,0,0,0\n",
    "\n",
    "0,0,0,1,0,1,0,0,0,0\n",
    "\n",
    "0,0,1,0,0,1,0,0,0,0\n",
    "\n",
    "0,1,0,0,0,0,0,0,0,0\n",
    "\n",
    "输出：6,8\n",
    "————————————————\n",
    "版权声明：本文为CSDN博主「Jeff_Winger」的原创文章，遵循 CC 4.0 BY-SA 版权协议，转载请附上原文出处链接及本声明。\n",
    "原文链接：https://blog.csdn.net/Jeff_Winger/java/article/details/81773827\n",
    "\n",
    "'''"
   ]
  },
  {
   "cell_type": "code",
   "execution_count": null,
   "metadata": {},
   "outputs": [],
   "source": []
  },
  {
   "cell_type": "code",
   "execution_count": null,
   "metadata": {},
   "outputs": [],
   "source": []
  },
  {
   "cell_type": "code",
   "execution_count": null,
   "metadata": {},
   "outputs": [],
   "source": []
  },
  {
   "cell_type": "code",
   "execution_count": null,
   "metadata": {},
   "outputs": [],
   "source": []
  },
  {
   "cell_type": "code",
   "execution_count": null,
   "metadata": {},
   "outputs": [],
   "source": []
  },
  {
   "cell_type": "code",
   "execution_count": null,
   "metadata": {},
   "outputs": [],
   "source": []
  },
  {
   "cell_type": "code",
   "execution_count": null,
   "metadata": {},
   "outputs": [],
   "source": []
  },
  {
   "cell_type": "code",
   "execution_count": null,
   "metadata": {},
   "outputs": [],
   "source": []
  }
 ],
 "metadata": {
  "kernelspec": {
   "display_name": "Python 3",
   "language": "python",
   "name": "python3"
  },
  "language_info": {
   "codemirror_mode": {
    "name": "ipython",
    "version": 3
   },
   "file_extension": ".py",
   "mimetype": "text/x-python",
   "name": "python",
   "nbconvert_exporter": "python",
   "pygments_lexer": "ipython3",
   "version": "3.6.10"
  },
  "toc": {
   "base_numbering": 1,
   "nav_menu": {},
   "number_sections": true,
   "sideBar": true,
   "skip_h1_title": false,
   "title_cell": "Table of Contents",
   "title_sidebar": "Contents",
   "toc_cell": false,
   "toc_position": {},
   "toc_section_display": true,
   "toc_window_display": false
  }
 },
 "nbformat": 4,
 "nbformat_minor": 4
}
