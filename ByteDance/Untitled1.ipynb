{
 "cells": [
  {
   "cell_type": "code",
   "execution_count": 5,
   "metadata": {
    "ExecuteTime": {
     "end_time": "2020-04-12T11:56:03.189566Z",
     "start_time": "2020-04-12T11:56:03.185595Z"
    }
   },
   "outputs": [
    {
     "data": {
      "text/plain": [
       "[3, 4, 5]"
      ]
     },
     "execution_count": 5,
     "metadata": {},
     "output_type": "execute_result"
    }
   ],
   "source": [
    "'''\n",
    "Input example:\n",
    "\n",
    "2\n",
    "6\n",
    "3 7 1 4 1 2\n",
    "3 7 3 6 3 2\n",
    "5\n",
    "1 1 1 1 1\n",
    "1 2 1 3 1\n",
    "\n",
    "Output example:\n",
    "YES\n",
    "NO\n",
    "\n",
    "'''\n"
   ]
  },
  {
   "cell_type": "code",
   "execution_count": 16,
   "metadata": {
    "ExecuteTime": {
     "end_time": "2020-04-12T12:40:52.671369Z",
     "start_time": "2020-04-12T12:40:13.991233Z"
    }
   },
   "outputs": [
    {
     "name": "stdout",
     "output_type": "stream",
     "text": [
      "2\n",
      "6\n",
      "3 7 1 4 1 2 3 7 3 6 3 2\n",
      "YES\n",
      "5\n",
      "1 1 1 1 1 1 2 1 3 1\n",
      "YES\n"
     ]
    }
   ],
   "source": [
    "n = int(input())\n",
    "for i in range(n):\n",
    "    length = int(input().strip())\n",
    "    arr = list(map(int, input().split(' ')))\n",
    "    #k = 1\n",
    "    a = arr[:length]\n",
    "    b = arr[-length:]\n",
    "    counter = 0\n",
    "    \n",
    "    for l in range(length-2):\n",
    "        for r in range(l+2, length-1):\n",
    "            if b[l] - a[l] == b[r] - a[r]:\n",
    "            \n",
    "            #if (sum(a[l:r]) + k * (r-l)) == sum(b[l:r]):\n",
    "                counter += 1\n",
    "            else:\n",
    "                continue\n",
    "    \n",
    "    if counter >= 1:\n",
    "        print('YES')\n",
    "    else:\n",
    "        print(\"NO\")"
   ]
  },
  {
   "cell_type": "code",
   "execution_count": 6,
   "metadata": {
    "ExecuteTime": {
     "end_time": "2020-04-12T12:01:50.995665Z",
     "start_time": "2020-04-12T12:01:50.991677Z"
    }
   },
   "outputs": [],
   "source": [
    "a = [0,1,2,3,4]"
   ]
  },
  {
   "cell_type": "code",
   "execution_count": 13,
   "metadata": {
    "ExecuteTime": {
     "end_time": "2020-04-12T12:25:38.634873Z",
     "start_time": "2020-04-12T12:25:38.619887Z"
    }
   },
   "outputs": [
    {
     "data": {
      "text/plain": [
       "4"
      ]
     },
     "execution_count": 13,
     "metadata": {},
     "output_type": "execute_result"
    }
   ],
   "source": []
  },
  {
   "cell_type": "code",
   "execution_count": null,
   "metadata": {},
   "outputs": [],
   "source": []
  },
  {
   "cell_type": "code",
   "execution_count": null,
   "metadata": {},
   "outputs": [],
   "source": []
  },
  {
   "cell_type": "code",
   "execution_count": null,
   "metadata": {},
   "outputs": [],
   "source": []
  },
  {
   "cell_type": "code",
   "execution_count": null,
   "metadata": {},
   "outputs": [],
   "source": []
  },
  {
   "cell_type": "code",
   "execution_count": null,
   "metadata": {},
   "outputs": [],
   "source": []
  },
  {
   "cell_type": "code",
   "execution_count": null,
   "metadata": {},
   "outputs": [],
   "source": []
  },
  {
   "cell_type": "code",
   "execution_count": null,
   "metadata": {},
   "outputs": [],
   "source": []
  }
 ],
 "metadata": {
  "kernelspec": {
   "display_name": "Python 3",
   "language": "python",
   "name": "python3"
  },
  "language_info": {
   "codemirror_mode": {
    "name": "ipython",
    "version": 3
   },
   "file_extension": ".py",
   "mimetype": "text/x-python",
   "name": "python",
   "nbconvert_exporter": "python",
   "pygments_lexer": "ipython3",
   "version": "3.6.10"
  },
  "toc": {
   "base_numbering": 1,
   "nav_menu": {},
   "number_sections": true,
   "sideBar": true,
   "skip_h1_title": false,
   "title_cell": "Table of Contents",
   "title_sidebar": "Contents",
   "toc_cell": false,
   "toc_position": {},
   "toc_section_display": true,
   "toc_window_display": false
  }
 },
 "nbformat": 4,
 "nbformat_minor": 4
}
