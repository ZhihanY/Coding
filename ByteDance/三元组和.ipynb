{
 "cells": [
  {
   "cell_type": "code",
   "execution_count": 1,
   "metadata": {
    "ExecuteTime": {
     "end_time": "2020-04-12T05:54:56.614168Z",
     "start_time": "2020-04-12T05:54:56.611176Z"
    }
   },
   "outputs": [],
   "source": [
    "#字节跳动2020校招笔试\n",
    "#和小于k的三元组个数"
   ]
  },
  {
   "cell_type": "code",
   "execution_count": 35,
   "metadata": {
    "ExecuteTime": {
     "end_time": "2020-04-12T06:31:48.509382Z",
     "start_time": "2020-04-12T06:31:42.329480Z"
    }
   },
   "outputs": [
    {
     "name": "stdout",
     "output_type": "stream",
     "text": [
      "6\n",
      "-2 0 1 2 3 6\n",
      "2\n",
      "4\n"
     ]
    }
   ],
   "source": [
    "length = int(input())\n",
    "arr = list(map(int, input().split(' ')))\n",
    "k = int(input()) \n",
    "arr = sorted(arr)\n",
    "res = 0\n",
    "#r = 2\n",
    "\n",
    "for t in range(2, length):\n",
    "    i = 0\n",
    "    j = t - 1\n",
    "    while i < j:\n",
    "        my_sum = arr[i] + arr[j] + arr[t]\n",
    "        if my_sum < k:\n",
    "            res += j - i\n",
    "            i += 1\n",
    "        else:\n",
    "            j -= 1\n",
    "\n",
    "print(res)\n",
    "        "
   ]
  },
  {
   "cell_type": "code",
   "execution_count": 37,
   "metadata": {
    "ExecuteTime": {
     "end_time": "2020-04-12T06:32:32.508490Z",
     "start_time": "2020-04-12T06:32:27.606509Z"
    }
   },
   "outputs": [
    {
     "name": "stdout",
     "output_type": "stream",
     "text": [
      "3 21 4 6\n"
     ]
    },
    {
     "data": {
      "text/plain": [
       "[3, 4, 6, 21]"
      ]
     },
     "execution_count": 37,
     "metadata": {},
     "output_type": "execute_result"
    }
   ],
   "source": [
    "arr = list(map(int, input().split(' ')))\n",
    "arr.sort()\n",
    "arr"
   ]
  },
  {
   "cell_type": "code",
   "execution_count": null,
   "metadata": {
    "ExecuteTime": {
     "end_time": "2020-04-12T06:32:09.257732Z",
     "start_time": "2020-04-12T06:32:09.253747Z"
    }
   },
   "outputs": [],
   "source": []
  },
  {
   "cell_type": "code",
   "execution_count": null,
   "metadata": {
    "ExecuteTime": {
     "end_time": "2020-04-12T06:23:47.325308Z",
     "start_time": "2020-04-12T06:23:47.320321Z"
    }
   },
   "outputs": [],
   "source": []
  },
  {
   "cell_type": "code",
   "execution_count": null,
   "metadata": {},
   "outputs": [],
   "source": []
  },
  {
   "cell_type": "code",
   "execution_count": null,
   "metadata": {},
   "outputs": [],
   "source": []
  },
  {
   "cell_type": "code",
   "execution_count": null,
   "metadata": {},
   "outputs": [],
   "source": []
  },
  {
   "cell_type": "code",
   "execution_count": null,
   "metadata": {},
   "outputs": [],
   "source": []
  },
  {
   "cell_type": "code",
   "execution_count": null,
   "metadata": {},
   "outputs": [],
   "source": []
  }
 ],
 "metadata": {
  "kernelspec": {
   "display_name": "Python 3",
   "language": "python",
   "name": "python3"
  },
  "language_info": {
   "codemirror_mode": {
    "name": "ipython",
    "version": 3
   },
   "file_extension": ".py",
   "mimetype": "text/x-python",
   "name": "python",
   "nbconvert_exporter": "python",
   "pygments_lexer": "ipython3",
   "version": "3.6.10"
  },
  "toc": {
   "base_numbering": 1,
   "nav_menu": {},
   "number_sections": true,
   "sideBar": true,
   "skip_h1_title": false,
   "title_cell": "Table of Contents",
   "title_sidebar": "Contents",
   "toc_cell": false,
   "toc_position": {},
   "toc_section_display": true,
   "toc_window_display": false
  }
 },
 "nbformat": 4,
 "nbformat_minor": 4
}
