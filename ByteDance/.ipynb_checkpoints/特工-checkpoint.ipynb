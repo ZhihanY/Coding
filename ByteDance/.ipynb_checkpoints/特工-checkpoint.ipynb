{
 "cells": [
  {
   "cell_type": "code",
   "execution_count": 1,
   "metadata": {
    "ExecuteTime": {
     "end_time": "2020-04-12T03:16:11.424173Z",
     "start_time": "2020-04-12T03:16:11.419184Z"
    }
   },
   "outputs": [],
   "source": [
    "#字节跳动2019春招笔试\n",
    "#抓捕孔连顺"
   ]
  },
  {
   "cell_type": "code",
   "execution_count": null,
   "metadata": {},
   "outputs": [],
   "source": [
    "'''\n",
    "请听题：给定N（可选作为埋伏点的建筑物数）、D（相距最远的两名特工间的距离的最大值）以及可选建筑的坐标，\n",
    "计算在这次行动中，大锤的小队有多少种埋伏选择。\n",
    "\n",
    "注意：\n",
    "\n",
    "1. 两个特工不能埋伏在同一地点\n",
    "\n",
    "2. 三个特工是等价的：即同样的位置组合(A, B, C) 只算一种埋伏方法，不能因“特工之间互换位置”而重复使用\n",
    "\n",
    "输入描述:\n",
    "\n",
    "    第一行包含空格分隔的两个数字 N和D(1 ≤ N ≤ 1000000; 1 ≤ D ≤ 1000000)\n",
    "\n",
    "    第二行包含N个建筑物的的位置，每个位置用一个整数（取值区间为[0, 1000000]）表示，从小到大排列\n",
    "    （将字节跳动大街看做一条数轴）\n",
    "\n",
    "输出描述:\n",
    "\n",
    "    一个数字，表示不同埋伏方案的数量。结果可能溢出，请对 99997867 取模\n",
    "\n",
    "输入例子:\n",
    "\n",
    "    4 3\n",
    "    1 2 3 4\n",
    "\n",
    "输出例子:\n",
    "\n",
    "    4\n",
    "\n",
    "例子说明:\n",
    "\n",
    "    可选方案 (1, 2, 3), (1, 2, 4), (1, 3, 4), (2, 3, 4)\n",
    "\n",
    "————————————————\n",
    "版权声明：本文为CSDN博主「程序员阿城」的原创文章，遵循 CC 4.0 BY-SA 版权协议，转载请附上原文出处链接及本声明。\n",
    "原文链接：https://blog.csdn.net/zhoulei124/java/article/details/93742992\n",
    "'''"
   ]
  },
  {
   "cell_type": "code",
   "execution_count": 4,
   "metadata": {
    "ExecuteTime": {
     "end_time": "2020-04-12T03:49:19.711319Z",
     "start_time": "2020-04-12T03:48:46.882786Z"
    }
   },
   "outputs": [
    {
     "name": "stdout",
     "output_type": "stream",
     "text": [
      "10 1000\n",
      "10 100 200 300 400 500 600 700 800 990\n",
      "120\n"
     ]
    }
   ],
   "source": [
    "#思路\n",
    "#设置两个指针，i指针为第一个特工的下标，j指针为另外两个特工最远位置的下标，依次遍历；\n",
    "#根据排列组合，每个i指针对应的方案数为C(j-i,2)，将所有方案数相加。\n",
    "\n",
    "n, d = map(int, input().split())\n",
    "nums = list(map(int, input().split()))\n",
    "res = 0\n",
    "i = 0\n",
    "j = 2\n",
    "while i < n-2:\n",
    "    while j < n and nums[j] - nums[i] <= d:\n",
    "        j += 1    #最后一次时会使j多加一次\n",
    "    if j - 1 - i >= 2:\n",
    "        num = j - i - 1\n",
    "        res += num * (num - 1) // 2\n",
    "    i += 1\n",
    "res= res%99997867\n",
    "print(res)\n"
   ]
  },
  {
   "cell_type": "code",
   "execution_count": null,
   "metadata": {
    "ExecuteTime": {
     "end_time": "2020-04-12T03:39:52.762167Z",
     "start_time": "2020-04-12T03:39:52.750187Z"
    }
   },
   "outputs": [],
   "source": []
  },
  {
   "cell_type": "code",
   "execution_count": null,
   "metadata": {},
   "outputs": [],
   "source": []
  },
  {
   "cell_type": "code",
   "execution_count": null,
   "metadata": {},
   "outputs": [],
   "source": []
  },
  {
   "cell_type": "code",
   "execution_count": null,
   "metadata": {},
   "outputs": [],
   "source": []
  },
  {
   "cell_type": "code",
   "execution_count": null,
   "metadata": {},
   "outputs": [],
   "source": []
  },
  {
   "cell_type": "code",
   "execution_count": null,
   "metadata": {},
   "outputs": [],
   "source": []
  },
  {
   "cell_type": "code",
   "execution_count": null,
   "metadata": {},
   "outputs": [],
   "source": []
  },
  {
   "cell_type": "code",
   "execution_count": null,
   "metadata": {},
   "outputs": [],
   "source": []
  },
  {
   "cell_type": "code",
   "execution_count": null,
   "metadata": {},
   "outputs": [],
   "source": []
  }
 ],
 "metadata": {
  "kernelspec": {
   "display_name": "Python 3",
   "language": "python",
   "name": "python3"
  },
  "language_info": {
   "codemirror_mode": {
    "name": "ipython",
    "version": 3
   },
   "file_extension": ".py",
   "mimetype": "text/x-python",
   "name": "python",
   "nbconvert_exporter": "python",
   "pygments_lexer": "ipython3",
   "version": "3.6.10"
  },
  "toc": {
   "base_numbering": 1,
   "nav_menu": {},
   "number_sections": true,
   "sideBar": true,
   "skip_h1_title": false,
   "title_cell": "Table of Contents",
   "title_sidebar": "Contents",
   "toc_cell": false,
   "toc_position": {},
   "toc_section_display": true,
   "toc_window_display": false
  }
 },
 "nbformat": 4,
 "nbformat_minor": 4
}
