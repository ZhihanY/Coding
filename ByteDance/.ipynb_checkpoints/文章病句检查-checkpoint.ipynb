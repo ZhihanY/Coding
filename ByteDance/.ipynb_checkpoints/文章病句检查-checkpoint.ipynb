{
 "cells": [
  {
   "cell_type": "code",
   "execution_count": null,
   "metadata": {},
   "outputs": [],
   "source": [
    "#字节跳动2019届校招笔试\n",
    "#文章病句检查"
   ]
  },
  {
   "cell_type": "code",
   "execution_count": null,
   "metadata": {},
   "outputs": [],
   "source": [
    "'''\n",
    "\n",
    "2.为了提高文章质量，每一篇文章（假设全部都是英文）都会有m民编辑进行审核，每个编辑独立工作，会把觉得有问题\n",
    "的句子通过下表记录下来，比如[1,10]，1表示病句的第一个字符，10表示病句的最后一个字符。\n",
    "也就是从1到10着10个字符组成的句子，是有问题的。\n",
    "\n",
    "现在需要把多名编辑有问题的句子合并起来，送个总编辑进行最终的审核。比如编辑A指出的病句是[1,10]，[32,45];\n",
    "编辑B指出的病句是[5,16]，[78,94]那么[1,10]和[5,16]是有交叉的，可以合并成[1,16][32,45][78,94]\n",
    "\n",
    "输入描述：\n",
    "\n",
    "编辑数量m，之后每行是每个编辑的标记的下表组合，第一个和最后一个下标用英文逗号分隔，每组下标之间用分号分隔\n",
    "\n",
    "输出描述：\n",
    "\n",
    "合并后的下标集合，第一个和最后一个下标用英文逗号分隔，每组下标之间用分号分隔。返回结果是从小到大递增排列\n",
    "\n",
    "例：输入\n",
    "\n",
    "3\n",
    "\n",
    "1,10;32,45\n",
    "\n",
    "78,94;5,16\n",
    "\n",
    "80,100;200,220;16,32\n",
    "\n",
    "输出： 1,45;78,100;200,220\n",
    "————————————————\n",
    "版权声明：本文为CSDN博主「Jeff_Winger」的原创文章，遵循 CC 4.0 BY-SA 版权协议，转载请附上原文出处链接及本声明。\n",
    "原文链接：https://blog.csdn.net/Jeff_Winger/java/article/details/81773827\n",
    "'''"
   ]
  },
  {
   "cell_type": "code",
   "execution_count": 4,
   "metadata": {
    "ExecuteTime": {
     "end_time": "2020-04-11T21:30:58.755328Z",
     "start_time": "2020-04-11T21:30:58.743360Z"
    }
   },
   "outputs": [
    {
     "name": "stdout",
     "output_type": "stream",
     "text": [
      "1,45;78,100;200,220\n"
     ]
    }
   ],
   "source": [
    "# coding:utf-8\n",
    "#m = int(input())\n",
    "temp = []\n",
    "n = 3\n",
    "m = '1,10;32,45;78,94;5,16;80,100;200,220;16,32'\n",
    "\n",
    "for _ in range(n):\n",
    "    line = [list(map(int, item.split(','))) for item in m.split(';')]\n",
    "    # [[1, 10], [32, 45]]\n",
    "    temp.extend(line)\n",
    "\n",
    "# 按每段病句[l, r]的第一个位置l排序\n",
    "temp = sorted(temp, key=lambda x: x[0])\n",
    " \n",
    "# [[1, 10]]\n",
    "ret = [temp[0]]\n",
    " \n",
    "# 与之后的病句段进行比较\n",
    "for item in temp[1:]:\n",
    "    \n",
    "    # res[-1][1] == 10从后往前取\n",
    "    # item == [32, 45], item[0] == 32\n",
    "    if ret[-1][1] >= item[0]: #notice that with the appending of new items, ret[-1][1] will change\n",
    "        # 贪心：对 [l1,r1], [l2,r2]，如果 r1 > l2，则 r1 = max(r1, r2)\n",
    "        # [5, 16], [16, 32], 16 >= 16, max(16, 32) ---> [5, 32]\n",
    "        ret[-1][1] = max(ret[-1][1], item[1])\n",
    "    else:\n",
    "        # [[1, 10], [32, 45]]\n",
    "        ret.append(item)\n",
    "s = ''\n",
    "#print(ret) \n",
    "\n",
    "# 不取最后一位，因为最后一位末尾不添加分号\n",
    "for item in ret[:-1]:\n",
    "    s += str(item[0]) + ',' + str(item[1]) + ';'\n",
    "\n",
    "# 单独处理\n",
    "s += str(ret[-1][0]) + ',' + str(ret[-1][1])\n",
    " \n",
    "print(s)\n"
   ]
  },
  {
   "cell_type": "code",
   "execution_count": null,
   "metadata": {},
   "outputs": [],
   "source": []
  },
  {
   "cell_type": "code",
   "execution_count": null,
   "metadata": {},
   "outputs": [],
   "source": []
  },
  {
   "cell_type": "code",
   "execution_count": null,
   "metadata": {},
   "outputs": [],
   "source": []
  }
 ],
 "metadata": {
  "kernelspec": {
   "display_name": "Python 3",
   "language": "python",
   "name": "python3"
  },
  "language_info": {
   "codemirror_mode": {
    "name": "ipython",
    "version": 3
   },
   "file_extension": ".py",
   "mimetype": "text/x-python",
   "name": "python",
   "nbconvert_exporter": "python",
   "pygments_lexer": "ipython3",
   "version": "3.6.10"
  },
  "toc": {
   "base_numbering": 1,
   "nav_menu": {},
   "number_sections": true,
   "sideBar": true,
   "skip_h1_title": false,
   "title_cell": "Table of Contents",
   "title_sidebar": "Contents",
   "toc_cell": false,
   "toc_position": {},
   "toc_section_display": true,
   "toc_window_display": false
  }
 },
 "nbformat": 4,
 "nbformat_minor": 4
}
