{
 "cells": [
  {
   "cell_type": "code",
   "execution_count": 1,
   "metadata": {
    "ExecuteTime": {
     "end_time": "2020-04-12T04:23:02.822688Z",
     "start_time": "2020-04-12T04:23:02.818701Z"
    }
   },
   "outputs": [],
   "source": [
    "#字节跳动2020秋招笔试\n",
    "#年终奖"
   ]
  },
  {
   "cell_type": "code",
   "execution_count": null,
   "metadata": {},
   "outputs": [],
   "source": [
    "'''\n",
    "\n",
    "老板给员工发年终奖，员工坐成一排。\n",
    "条件：1.每个员工至少100元年终奖。2.相邻的员工可以互相得知对方年终奖，在公司年份大的要比在公司年份小的\n",
    "至少多100元，员工才不会有意见。问：老板怎么发年终奖满足以上条件，并且总和最少。\n",
    "\n",
    "输入：\n",
    "1.N个员工\n",
    "2.每个员工的来公司的年份。\n",
    "输出：\n",
    "每个员工的年终奖\n",
    "例1\n",
    "\n",
    "输入：\n",
    "5\n",
    "7 3 9 6 2\n",
    "输出：\n",
    "200 100 300 200 100\n",
    "例2\n",
    "\n",
    "输入：\n",
    "4\n",
    "1 1 1 1\n",
    "输出：\n",
    "100 100 100 100\n",
    "————————————————\n",
    "版权声明：本文为CSDN博主「okfu_DL」的原创文章，遵循 CC 4.0 BY-SA 版权协议，转载请附上原文出处链接及本声明。\n",
    "原文链接：https://blog.csdn.net/okfu_dl/java/article/details/99319456\n",
    "'''"
   ]
  },
  {
   "cell_type": "code",
   "execution_count": 17,
   "metadata": {
    "ExecuteTime": {
     "end_time": "2020-04-12T04:41:54.408534Z",
     "start_time": "2020-04-12T04:41:44.277592Z"
    }
   },
   "outputs": [
    {
     "name": "stdout",
     "output_type": "stream",
     "text": [
      "7\n",
      "5 6 7 8 9 10 1\n",
      "['200', '200', '300', '400', '500', '600', '100']\n"
     ]
    }
   ],
   "source": [
    "#思路\n",
    "#对于每一个员工都得看他左右连续比他小的员工个数。然后取左右中的最大值。那么它的年终奖等于这个值*100。\n",
    "\n",
    "num_emp = int(input())\n",
    "year = [int(x) for x in input().split()]\n",
    "salary = []\n",
    "\n",
    "left = [1] * num_emp\n",
    "right = [1] * num_emp\n",
    "\n",
    "#from left to right\n",
    "for i in range(1,num_emp):\n",
    "    if year[i] > year[i-1]:\n",
    "        left[i] += left[i-1]\n",
    "#from right to left\n",
    "for i in range(num_emp-1)[::-1]:\n",
    "    if year[i] > year[i+1]:  #?\n",
    "        right[i] += right[i+1]  #?\n",
    "\n",
    "for i in range(num_emp):\n",
    "    salary.append(str(max(left[i], right[i])*100))\n",
    "\n",
    "print(salary)"
   ]
  },
  {
   "cell_type": "code",
   "execution_count": 5,
   "metadata": {
    "ExecuteTime": {
     "end_time": "2020-04-12T04:28:59.909652Z",
     "start_time": "2020-04-12T04:28:59.904665Z"
    }
   },
   "outputs": [],
   "source": []
  },
  {
   "cell_type": "code",
   "execution_count": 18,
   "metadata": {
    "ExecuteTime": {
     "end_time": "2020-04-12T04:42:34.559696Z",
     "start_time": "2020-04-12T04:42:34.554709Z"
    }
   },
   "outputs": [
    {
     "name": "stdout",
     "output_type": "stream",
     "text": [
      "3\n",
      "2\n",
      "1\n",
      "0\n"
     ]
    }
   ],
   "source": [
    "for i in range(4)[::-1]:\n",
    "    print(i)"
   ]
  },
  {
   "cell_type": "code",
   "execution_count": 6,
   "metadata": {
    "ExecuteTime": {
     "end_time": "2020-04-12T04:30:35.307172Z",
     "start_time": "2020-04-12T04:30:35.302186Z"
    }
   },
   "outputs": [
    {
     "data": {
      "text/plain": [
       "range(4, -1, -1)"
      ]
     },
     "execution_count": 6,
     "metadata": {},
     "output_type": "execute_result"
    }
   ],
   "source": []
  },
  {
   "cell_type": "code",
   "execution_count": null,
   "metadata": {},
   "outputs": [],
   "source": []
  },
  {
   "cell_type": "code",
   "execution_count": null,
   "metadata": {},
   "outputs": [],
   "source": []
  },
  {
   "cell_type": "code",
   "execution_count": null,
   "metadata": {},
   "outputs": [],
   "source": []
  },
  {
   "cell_type": "code",
   "execution_count": null,
   "metadata": {},
   "outputs": [],
   "source": []
  },
  {
   "cell_type": "code",
   "execution_count": null,
   "metadata": {},
   "outputs": [],
   "source": []
  }
 ],
 "metadata": {
  "kernelspec": {
   "display_name": "Python 3",
   "language": "python",
   "name": "python3"
  },
  "language_info": {
   "codemirror_mode": {
    "name": "ipython",
    "version": 3
   },
   "file_extension": ".py",
   "mimetype": "text/x-python",
   "name": "python",
   "nbconvert_exporter": "python",
   "pygments_lexer": "ipython3",
   "version": "3.6.10"
  },
  "toc": {
   "base_numbering": 1,
   "nav_menu": {},
   "number_sections": true,
   "sideBar": true,
   "skip_h1_title": false,
   "title_cell": "Table of Contents",
   "title_sidebar": "Contents",
   "toc_cell": false,
   "toc_position": {},
   "toc_section_display": true,
   "toc_window_display": false
  }
 },
 "nbformat": 4,
 "nbformat_minor": 4
}
