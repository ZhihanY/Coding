{
 "cells": [
  {
   "cell_type": "code",
   "execution_count": 1,
   "metadata": {
    "ExecuteTime": {
     "end_time": "2020-04-11T23:34:34.643832Z",
     "start_time": "2020-04-11T23:34:34.638865Z"
    }
   },
   "outputs": [],
   "source": [
    "#字节跳动春招笔试\n",
    "#自动校对程序\n"
   ]
  },
  {
   "cell_type": "code",
   "execution_count": null,
   "metadata": {},
   "outputs": [],
   "source": [
    "'''\n",
    "\n",
    "（一）万万没想到之聪明的编辑\n",
    "\n",
    "我叫王大锤，是一家出版社的编辑。我负责校对投稿来的英文稿件，这份工作非常烦人，因为每天都要去修正无数的拼写错误。但是，优秀的人总能在平凡的工作中发现真理。我发现一个发现拼写错误的捷径：\n",
    "\n",
    "1. 三个同样的字母连在一起，一定是拼写错误，去掉一个的就好啦：比如 helllo -> hello\n",
    "\n",
    "2. 两对一样的字母（AABB型）连在一起，一定是拼写错误，去掉第二对的一个字母就好啦：比如 helloo -> hello\n",
    "\n",
    "3. 上面的规则优先“从左到右”匹配，即如果是AABBCC，虽然AABB和BBCC都是错误拼写，应该优先考虑修复AABB，结果为AABCC\n",
    "\n",
    "我特喵是个天才！我在蓝翔学过挖掘机和程序设计，按照这个原理写了一个自动校对器，工作效率从此起飞。用不了多久，我就会出任CEO，当上董事长，迎娶白富美，走上人生巅峰，想想都有点小激动呢！\n",
    "\n",
    "……\n",
    "\n",
    "万万没想到，我被开除了，临走时老板对我说： “做人做事要兢兢业业、勤勤恳恳、本本分分，人要是行，干一行行一行。一行行行行行；要是不行，干一行不行一行，一行不行行行不行。” 我现在整个人红红火火恍恍惚惚的……\n",
    "\n",
    "请听题：请实现大锤的自动校对程序\n",
    "\n",
    "输入描述:\n",
    "\n",
    "    第一行包括一个数字N，表示本次用例包括多少个待校验的字符串。\n",
    "\n",
    "    后面跟随N行，每行为一个待校验的字符串。\n",
    "\n",
    "输出描述:\n",
    "\n",
    "    N行，每行包括一个被修复后的字符串。\n",
    "\n",
    "输入例子:\n",
    "\n",
    "    2\n",
    "    helloo\n",
    "    wooooooow\n",
    "\n",
    "输出例子:\n",
    "\n",
    "    hello\n",
    "    woow\n",
    "'''"
   ]
  },
  {
   "cell_type": "code",
   "execution_count": 9,
   "metadata": {
    "ExecuteTime": {
     "end_time": "2020-04-12T00:05:46.923699Z",
     "start_time": "2020-04-12T00:05:36.791233Z"
    }
   },
   "outputs": [
    {
     "name": "stdout",
     "output_type": "stream",
     "text": [
      "2\n",
      "avvvvvvd\n",
      "avvd\n",
      "ogagagew\n",
      "ogagagew\n"
     ]
    }
   ],
   "source": [
    "n = int(input())\n",
    "\n",
    "#give a for loop to continously input strings\n",
    "for i in range(n):\n",
    "    s = input()\n",
    "    res = []\n",
    "    for j in s:\n",
    "        if len(res) < 2:\n",
    "            res.append(j)\n",
    "            continue\n",
    "        if len(res) >= 2:\n",
    "            if res[-1] == j and j == res[-2]:\n",
    "                continue\n",
    "        if len(res) >= 3:\n",
    "            if res[-1] == j and res[-2] == res[-3]:\n",
    "                continue\n",
    "        res.append(j) \n",
    "    print(''.join(res))"
   ]
  },
  {
   "cell_type": "code",
   "execution_count": 8,
   "metadata": {
    "ExecuteTime": {
     "end_time": "2020-04-11T23:58:54.233526Z",
     "start_time": "2020-04-11T23:58:54.228540Z"
    }
   },
   "outputs": [
    {
     "name": "stdout",
     "output_type": "stream",
     "text": [
      "haha\n",
      "haha\n"
     ]
    }
   ],
   "source": [
    "l = []\n",
    "for i in range(5):\n",
    "    if i % 2 == 0:\n",
    "        l.append(i)\n",
    "        continue\n",
    "    print('haha')"
   ]
  },
  {
   "cell_type": "code",
   "execution_count": null,
   "metadata": {},
   "outputs": [],
   "source": []
  },
  {
   "cell_type": "code",
   "execution_count": null,
   "metadata": {},
   "outputs": [],
   "source": []
  },
  {
   "cell_type": "code",
   "execution_count": null,
   "metadata": {},
   "outputs": [],
   "source": []
  },
  {
   "cell_type": "code",
   "execution_count": null,
   "metadata": {},
   "outputs": [],
   "source": []
  },
  {
   "cell_type": "code",
   "execution_count": null,
   "metadata": {},
   "outputs": [],
   "source": []
  }
 ],
 "metadata": {
  "kernelspec": {
   "display_name": "Python 3",
   "language": "python",
   "name": "python3"
  },
  "language_info": {
   "codemirror_mode": {
    "name": "ipython",
    "version": 3
   },
   "file_extension": ".py",
   "mimetype": "text/x-python",
   "name": "python",
   "nbconvert_exporter": "python",
   "pygments_lexer": "ipython3",
   "version": "3.6.10"
  },
  "toc": {
   "base_numbering": 1,
   "nav_menu": {},
   "number_sections": true,
   "sideBar": true,
   "skip_h1_title": false,
   "title_cell": "Table of Contents",
   "title_sidebar": "Contents",
   "toc_cell": false,
   "toc_position": {},
   "toc_section_display": true,
   "toc_window_display": false
  }
 },
 "nbformat": 4,
 "nbformat_minor": 4
}
