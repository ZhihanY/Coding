{
 "cells": [
  {
   "cell_type": "code",
   "execution_count": 27,
   "metadata": {
    "ExecuteTime": {
     "end_time": "2020-04-14T20:35:03.369184Z",
     "start_time": "2020-04-14T20:35:03.358202Z"
    }
   },
   "outputs": [
    {
     "data": {
      "text/plain": [
       "'101010'"
      ]
     },
     "execution_count": 27,
     "metadata": {},
     "output_type": "execute_result"
    }
   ],
   "source": [
    "from Stack import stack\n",
    "\n",
    "#dec_number = 32\n",
    "\n",
    "def divide_by_2(dec_number):\n",
    "    #global dec_number\n",
    "    \n",
    "    rem = stack()\n",
    "    \n",
    "    while dec_number > 0:\n",
    "        rem.push(dec_number % 2)\n",
    "        dec_number = dec_number // 2\n",
    "    bin_str = ''    \n",
    "    \n",
    "    while not rem.is_empty():\n",
    "        bin_str += str(rem.pop())\n",
    "        \n",
    "    return bin_str\n",
    "\n",
    "divide_by_2(42)"
   ]
  },
  {
   "cell_type": "code",
   "execution_count": 31,
   "metadata": {
    "ExecuteTime": {
     "end_time": "2020-04-14T20:41:17.554793Z",
     "start_time": "2020-04-14T20:41:17.547812Z"
    }
   },
   "outputs": [
    {
     "data": {
      "text/plain": [
       "'756341'"
      ]
     },
     "execution_count": 31,
     "metadata": {},
     "output_type": "execute_result"
    }
   ],
   "source": [
    "def divide_by_base(dec_number2, base):\n",
    "    #global dec_number2\n",
    "    digits = '0123456789ABCDEF'\n",
    "    rem = stack()\n",
    "    \n",
    "    while dec_number2 > 0:\n",
    "        rem.push(dec_number2 % base)\n",
    "        dec_number2 = dec_number2 // base\n",
    "    \n",
    "    base_str = ''\n",
    "    while not rem.is_empty():\n",
    "        base_str += digits[rem.pop()]\n",
    "    return base_str \n",
    "\n",
    "divide_by_base(253153, 8)"
   ]
  },
  {
   "cell_type": "code",
   "execution_count": null,
   "metadata": {
    "ExecuteTime": {
     "end_time": "2020-04-14T19:23:02.755160Z",
     "start_time": "2020-04-14T19:23:02.752162Z"
    }
   },
   "outputs": [],
   "source": []
  },
  {
   "cell_type": "code",
   "execution_count": null,
   "metadata": {},
   "outputs": [],
   "source": []
  },
  {
   "cell_type": "code",
   "execution_count": null,
   "metadata": {},
   "outputs": [],
   "source": []
  },
  {
   "cell_type": "code",
   "execution_count": null,
   "metadata": {},
   "outputs": [],
   "source": []
  },
  {
   "cell_type": "code",
   "execution_count": null,
   "metadata": {},
   "outputs": [],
   "source": []
  },
  {
   "cell_type": "code",
   "execution_count": null,
   "metadata": {},
   "outputs": [],
   "source": []
  },
  {
   "cell_type": "code",
   "execution_count": null,
   "metadata": {},
   "outputs": [],
   "source": []
  },
  {
   "cell_type": "code",
   "execution_count": null,
   "metadata": {},
   "outputs": [],
   "source": []
  },
  {
   "cell_type": "code",
   "execution_count": null,
   "metadata": {},
   "outputs": [],
   "source": []
  },
  {
   "cell_type": "code",
   "execution_count": null,
   "metadata": {},
   "outputs": [],
   "source": []
  }
 ],
 "metadata": {
  "kernelspec": {
   "display_name": "Python 3",
   "language": "python",
   "name": "python3"
  },
  "language_info": {
   "codemirror_mode": {
    "name": "ipython",
    "version": 3
   },
   "file_extension": ".py",
   "mimetype": "text/x-python",
   "name": "python",
   "nbconvert_exporter": "python",
   "pygments_lexer": "ipython3",
   "version": "3.6.10"
  },
  "toc": {
   "base_numbering": 1,
   "nav_menu": {},
   "number_sections": true,
   "sideBar": true,
   "skip_h1_title": false,
   "title_cell": "Table of Contents",
   "title_sidebar": "Contents",
   "toc_cell": false,
   "toc_position": {},
   "toc_section_display": true,
   "toc_window_display": false
  }
 },
 "nbformat": 4,
 "nbformat_minor": 4
}
