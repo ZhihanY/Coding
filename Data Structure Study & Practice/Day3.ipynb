{
 "cells": [
  {
   "cell_type": "code",
   "execution_count": null,
   "metadata": {},
   "outputs": [],
   "source": [
    "# Data Structures study & Practice Day3"
   ]
  },
  {
   "cell_type": "code",
   "execution_count": 1,
   "metadata": {
    "ExecuteTime": {
     "end_time": "2020-04-16T19:22:27.250374Z",
     "start_time": "2020-04-16T19:22:27.239405Z"
    }
   },
   "outputs": [],
   "source": [
    "from Queue import Queue"
   ]
  },
  {
   "cell_type": "code",
   "execution_count": null,
   "metadata": {
    "ExecuteTime": {
     "end_time": "2020-04-16T19:08:18.337593Z",
     "start_time": "2020-04-16T19:08:18.333626Z"
    }
   },
   "outputs": [],
   "source": [
    "q = Queue()"
   ]
  },
  {
   "cell_type": "code",
   "execution_count": null,
   "metadata": {},
   "outputs": [],
   "source": [
    "q = Queue()\n",
    "q.enqueue('hello')\n",
    "q.enqueue('dog')\n",
    "q.enqueue(3)\n",
    "q.dequeue()"
   ]
  },
  {
   "cell_type": "code",
   "execution_count": 2,
   "metadata": {
    "ExecuteTime": {
     "end_time": "2020-04-16T19:22:30.189687Z",
     "start_time": "2020-04-16T19:22:30.179715Z"
    }
   },
   "outputs": [
    {
     "name": "stdout",
     "output_type": "stream",
     "text": [
      "None\n"
     ]
    }
   ],
   "source": [
    "import random\n",
    "def hot_potato(name_list, num):\n",
    "    sim_queue = Queue()\n",
    "    for name in name_list:\n",
    "        sim_queue.enqueue(name)\n",
    "    while sim_queue.size() > 1:\n",
    "        for i in range(num):\n",
    "            sim_queue.enqueue(sim_queue.dequeue())\n",
    "        sim_queue.dequeue()\n",
    "    return sim_queue.dequeue()\n",
    "\n",
    "print(hot_potato([\"Bill\", \"David\", \"Susan\", \"Jane\", \"Kent\",\n",
    "\"Brad\"], 7))"
   ]
  },
  {
   "cell_type": "code",
   "execution_count": null,
   "metadata": {},
   "outputs": [],
   "source": [
    "# deques"
   ]
  },
  {
   "cell_type": "code",
   "execution_count": 3,
   "metadata": {
    "ExecuteTime": {
     "end_time": "2020-04-16T20:01:35.607485Z",
     "start_time": "2020-04-16T20:01:35.602515Z"
    }
   },
   "outputs": [],
   "source": [
    "# Completed implementation of a deque ADT\n",
    "class Deque:\n",
    "    def __init__(self):\n",
    "        self.items = []\n",
    "    def is_empty(self):\n",
    "        return self.items == []\n",
    "    def add_front(self, item):\n",
    "        self.items.append(item)\n",
    "    def add_rear(self, item):\n",
    "        self.items.insert(0,item)\n",
    "    def remove_front(self):\n",
    "        return self.items.pop()\n",
    "    def remove_rear(self):\n",
    "        return self.items.pop(0)\n",
    "    def size(self):\n",
    "        return len(self.items)"
   ]
  },
  {
   "cell_type": "code",
   "execution_count": 6,
   "metadata": {
    "ExecuteTime": {
     "end_time": "2020-04-16T20:05:22.925463Z",
     "start_time": "2020-04-16T20:05:22.920476Z"
    }
   },
   "outputs": [],
   "source": [
    "# Example: Palindrome checker\n",
    "def pal_checker(a_str):\n",
    "    char_deque = Deque()\n",
    "    for i in a_str:\n",
    "        char_deque.add_rear(i)\n",
    "    still_equal = True\n",
    "    while char_deque.size() > 1 and still_equal:\n",
    "        first = char_deque.remove_front()\n",
    "        last = char_deque.remove_rear()\n",
    "        if first != last:\n",
    "            still_equal = False\n",
    "    \n",
    "    return still_equal"
   ]
  },
  {
   "cell_type": "code",
   "execution_count": 7,
   "metadata": {
    "ExecuteTime": {
     "end_time": "2020-04-16T20:05:23.100708Z",
     "start_time": "2020-04-16T20:05:23.095709Z"
    }
   },
   "outputs": [
    {
     "name": "stdout",
     "output_type": "stream",
     "text": [
      "False\n",
      "True\n"
     ]
    }
   ],
   "source": [
    "print(pal_checker(\"lsdkjfskf\"))\n",
    "print(pal_checker(\"radar\"))"
   ]
  },
  {
   "cell_type": "code",
   "execution_count": null,
   "metadata": {},
   "outputs": [],
   "source": []
  },
  {
   "cell_type": "code",
   "execution_count": null,
   "metadata": {},
   "outputs": [],
   "source": []
  }
 ],
 "metadata": {
  "kernelspec": {
   "display_name": "Python 3",
   "language": "python",
   "name": "python3"
  },
  "language_info": {
   "codemirror_mode": {
    "name": "ipython",
    "version": 3
   },
   "file_extension": ".py",
   "mimetype": "text/x-python",
   "name": "python",
   "nbconvert_exporter": "python",
   "pygments_lexer": "ipython3",
   "version": "3.6.10"
  },
  "toc": {
   "base_numbering": 1,
   "nav_menu": {},
   "number_sections": true,
   "sideBar": true,
   "skip_h1_title": false,
   "title_cell": "Table of Contents",
   "title_sidebar": "Contents",
   "toc_cell": false,
   "toc_position": {},
   "toc_section_display": true,
   "toc_window_display": false
  }
 },
 "nbformat": 4,
 "nbformat_minor": 4
}
