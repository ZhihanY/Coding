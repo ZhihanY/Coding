{
 "cells": [
  {
   "cell_type": "code",
   "execution_count": 1,
   "metadata": {
    "ExecuteTime": {
     "end_time": "2020-04-18T20:12:49.609820Z",
     "start_time": "2020-04-18T20:12:49.606828Z"
    }
   },
   "outputs": [],
   "source": [
    "#Data Structure Study & Practice Day 4"
   ]
  },
  {
   "cell_type": "code",
   "execution_count": 2,
   "metadata": {
    "ExecuteTime": {
     "end_time": "2020-04-18T20:12:53.733201Z",
     "start_time": "2020-04-18T20:12:53.730209Z"
    }
   },
   "outputs": [],
   "source": [
    "#Recursion\n",
    "#A recursive function is a function that calls itself"
   ]
  },
  {
   "cell_type": "code",
   "execution_count": null,
   "metadata": {},
   "outputs": [],
   "source": [
    "#Simple example\n",
    "def list_sum(num_list):\n",
    "    if len(num_list) == 1:\n",
    "        return num_list[0]\n",
    "    else:\n",
    "        return list_sum(num_list[0]) + list_sum(num_list[1:])\n"
   ]
  },
  {
   "cell_type": "code",
   "execution_count": null,
   "metadata": {},
   "outputs": [],
   "source": [
    "#The three laws of recursion\n",
    "#1. A recursive algorithm must have a base case\n",
    "#2. A recursive algorithm must change its state and move toward the base case\n",
    "#3. A recursive algorithm must call itself, recursively"
   ]
  },
  {
   "cell_type": "code",
   "execution_count": 3,
   "metadata": {
    "ExecuteTime": {
     "end_time": "2020-04-18T20:42:29.691250Z",
     "start_time": "2020-04-18T20:42:29.686272Z"
    }
   },
   "outputs": [],
   "source": [
    "# A recursive solution to base conversion\n",
    "def to_str(n, base):\n",
    "    convert_str = '0123456789ABCDEF'\n",
    "    if n < base:\n",
    "        return conver_str[n]\n",
    "    else:\n",
    "        return to_str(n/base, base) + convert_str[n % base]"
   ]
  },
  {
   "cell_type": "code",
   "execution_count": 8,
   "metadata": {
    "ExecuteTime": {
     "end_time": "2020-04-18T20:51:56.573627Z",
     "start_time": "2020-04-18T20:51:56.566654Z"
    }
   },
   "outputs": [],
   "source": [
    "# Self check\n",
    "#Write a function that takes a string as a parameter and returns a new string that is the reverse of\n",
    "#the old string.\n",
    "def rev_str(param):\n",
    "    if type(param) == str:\n",
    "        \n",
    "        if len(param) < 1:\n",
    "            return param\n",
    "        else:\n",
    "            return param[-1] + rev_str(param[:-1])\n",
    "    else:\n",
    "        print('Not a string!')"
   ]
  },
  {
   "cell_type": "code",
   "execution_count": 28,
   "metadata": {
    "ExecuteTime": {
     "end_time": "2020-04-18T21:05:37.307450Z",
     "start_time": "2020-04-18T21:05:37.301464Z"
    }
   },
   "outputs": [],
   "source": [
    "# Self check\n",
    "#Write a function that takes a string as a parameter and returns True if the string is a palindrome,\n",
    "#False otherwise.\n",
    "def palindrome_rec(input_str):\n",
    "    #compare_str = ''\n",
    "    if len(input_str) <= 2:\n",
    "        print('not a proper one!')\n",
    "    else:\n",
    "        return input_str == input_str[-1] + palindrome_rec(input_str[:-1])\n",
    "        \n",
    "# A wrong implementation"
   ]
  },
  {
   "cell_type": "code",
   "execution_count": 31,
   "metadata": {
    "ExecuteTime": {
     "end_time": "2020-04-18T21:10:21.805971Z",
     "start_time": "2020-04-18T21:10:21.793006Z"
    }
   },
   "outputs": [
    {
     "data": {
      "text/plain": [
       "True"
      ]
     },
     "execution_count": 31,
     "metadata": {},
     "output_type": "execute_result"
    }
   ],
   "source": [
    "# A recursive function that  \n",
    "# check a str[s..e] is  \n",
    "# palindrome or not. \n",
    "def isPalRec(st, s, e) : \n",
    "      \n",
    "    # If there is only one character \n",
    "    if (s == e): \n",
    "        return True\n",
    "    # If first and last \n",
    "    # characters do not match \n",
    "    if (st[s] != st[e]) : \n",
    "        return False\n",
    "    # If there are more than  \n",
    "    # two characters, check if  \n",
    "    # middle substring is also  \n",
    "    # palindrome or not. \n",
    "    if (s < e + 1) : \n",
    "        return isPalRec(st, s + 1, e - 1); \n",
    "    return True\n",
    "\n",
    "def isPalindrome(st) : \n",
    "    n = len(st) \n",
    "      \n",
    "    # An empty string is  \n",
    "    # considered as palindrome \n",
    "    if (n == 0) : \n",
    "        return True\n",
    "      \n",
    "    return isPalRec(st, 0, n - 1)\n",
    "\n",
    "isPalindrome('abcba')"
   ]
  },
  {
   "cell_type": "code",
   "execution_count": 14,
   "metadata": {
    "ExecuteTime": {
     "end_time": "2020-04-18T20:59:21.127720Z",
     "start_time": "2020-04-18T20:59:21.121725Z"
    }
   },
   "outputs": [
    {
     "data": {
      "text/plain": [
       "'abc'"
      ]
     },
     "execution_count": 14,
     "metadata": {},
     "output_type": "execute_result"
    }
   ],
   "source": [
    "a = 'abcd'\n",
    "a[:-1]"
   ]
  },
  {
   "cell_type": "code",
   "execution_count": null,
   "metadata": {
    "ExecuteTime": {
     "end_time": "2020-04-18T21:25:52.333113Z",
     "start_time": "2020-04-18T21:25:52.323121Z"
    }
   },
   "outputs": [],
   "source": []
  },
  {
   "cell_type": "code",
   "execution_count": null,
   "metadata": {
    "ExecuteTime": {
     "end_time": "2020-04-18T21:31:01.674066Z",
     "start_time": "2020-04-18T21:31:01.667084Z"
    }
   },
   "outputs": [],
   "source": []
  },
  {
   "cell_type": "code",
   "execution_count": null,
   "metadata": {},
   "outputs": [],
   "source": []
  },
  {
   "cell_type": "code",
   "execution_count": null,
   "metadata": {},
   "outputs": [],
   "source": []
  },
  {
   "cell_type": "code",
   "execution_count": null,
   "metadata": {},
   "outputs": [],
   "source": []
  },
  {
   "cell_type": "code",
   "execution_count": null,
   "metadata": {},
   "outputs": [],
   "source": []
  }
 ],
 "metadata": {
  "kernelspec": {
   "display_name": "Python 3",
   "language": "python",
   "name": "python3"
  },
  "language_info": {
   "codemirror_mode": {
    "name": "ipython",
    "version": 3
   },
   "file_extension": ".py",
   "mimetype": "text/x-python",
   "name": "python",
   "nbconvert_exporter": "python",
   "pygments_lexer": "ipython3",
   "version": "3.6.10"
  },
  "toc": {
   "base_numbering": 1,
   "nav_menu": {},
   "number_sections": true,
   "sideBar": true,
   "skip_h1_title": false,
   "title_cell": "Table of Contents",
   "title_sidebar": "Contents",
   "toc_cell": false,
   "toc_position": {},
   "toc_section_display": true,
   "toc_window_display": false
  }
 },
 "nbformat": 4,
 "nbformat_minor": 4
}
