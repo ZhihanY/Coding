{
 "cells": [
  {
   "cell_type": "code",
   "execution_count": null,
   "metadata": {},
   "outputs": [],
   "source": [
    "# Python - Data Structure\n",
    "#Examples"
   ]
  },
  {
   "cell_type": "code",
   "execution_count": null,
   "metadata": {},
   "outputs": [],
   "source": [
    "#字符串乱序检查 O(n^2)\n",
    "def anagramSolution1(s1,s2):\n",
    "    alist = list(s2)\n",
    "    pos1 = 0\n",
    "    stillOK = True\n",
    "    while pos1 < len(s1) and stillOK:\n",
    "        pos2 = 0\n",
    "        found = False\n",
    "        while pos2 < len(alist) and not found:\n",
    "            if s1[pos1] == alist[pos2]:\n",
    "                found = True\n",
    "            else:\n",
    "                pos2 = pos2 + 1\n",
    "        if found:\n",
    "            alist[pos2] = None\n",
    "        else:\n",
    "            stillOK = False\n",
    "        pos1 = pos1 + 1\n",
    "    return stillOK\n",
    "\n",
    "print(anagramSolution1('abcd','dcba'))\n"
   ]
  },
  {
   "cell_type": "code",
   "execution_count": 5,
   "metadata": {
    "ExecuteTime": {
     "end_time": "2020-04-13T17:31:13.249739Z",
     "start_time": "2020-04-13T17:31:13.237770Z"
    }
   },
   "outputs": [
    {
     "name": "stdout",
     "output_type": "stream",
     "text": [
      "True\n",
      "True\n",
      "False\n"
     ]
    }
   ],
   "source": [
    "# my way of writing it ()\n",
    "# solution 1: two loops to check \n",
    "\n",
    "def string_check(s1, s2):\n",
    "    list1 = list(s1)\n",
    "    check = False\n",
    "    pos1 = 0\n",
    "\n",
    "    for i in range(len(list1)):\n",
    "        pos2 = 0\n",
    "        for j in s2:\n",
    "            if list1[i] == j:\n",
    "                check = True\n",
    "    if len(s1) != len(s2):\n",
    "        check = False\n",
    "        \n",
    "    return check  \n",
    "\n",
    "print(string_check('132', '321'))\n",
    "print(string_check('abc', 'cba'))\n",
    "print(string_check('dfsaf', '32rdga'))"
   ]
  },
  {
   "cell_type": "code",
   "execution_count": 10,
   "metadata": {
    "ExecuteTime": {
     "end_time": "2020-04-13T17:37:37.159293Z",
     "start_time": "2020-04-13T17:37:37.152310Z"
    }
   },
   "outputs": [
    {
     "name": "stdout",
     "output_type": "stream",
     "text": [
      "True\n",
      "True\n",
      "False\n"
     ]
    }
   ],
   "source": [
    "#solution 2: sort the lists and check corresponding letters O(n)\n",
    "def string_check2(s1, s2):\n",
    "    list1 = list(s1)\n",
    "    list2 = list(s2)\n",
    "    check = True\n",
    "    list1.sort()\n",
    "    list2.sort()\n",
    "    \n",
    "    for i in range(len(list1)):\n",
    "        if list1[i] != list2[i]:\n",
    "            check = False\n",
    "            \n",
    "    if len(list1) != len(list2):\n",
    "        check = False\n",
    "    return check\n",
    "\n",
    "print(string_check('132', '321'))\n",
    "print(string_check('abc', 'cba'))\n",
    "print(string_check('dfsaf', '32rdga'))"
   ]
  },
  {
   "cell_type": "code",
   "execution_count": null,
   "metadata": {
    "ExecuteTime": {
     "end_time": "2020-04-13T17:34:50.747986Z",
     "start_time": "2020-04-13T17:34:50.744986Z"
    }
   },
   "outputs": [],
   "source": [
    "#solution 3: count of appearances of each letter O(n)\n",
    "\n",
    "def anagramSolution4(s1,s2):\n",
    "    c1 = [0]*26\n",
    "    c2 = [0]*26\n",
    "    for i in range(len(s1)):\n",
    "        pos = ord(s1[i])-ord('a')\n",
    "        c1[pos] = c1[pos] + 1\n",
    "    for i in range(len(s2)):\n",
    "        pos = ord(s2[i])-ord('a')\n",
    "        c2[pos] = c2[pos] + 1\n",
    "    j = 0\n",
    "    stillOK = True\n",
    "    while j<26 and stillOK:\n",
    "        if c1[j]==c2[j]:\n",
    "            j = j + 1\n",
    "        else:\n",
    "            stillOK = False\n",
    "    return stillOK\n",
    "\n",
    "print(anagramSolution4('apple','pleap'))"
   ]
  },
  {
   "cell_type": "code",
   "execution_count": null,
   "metadata": {
    "ExecuteTime": {
     "end_time": "2020-04-13T17:34:51.708409Z",
     "start_time": "2020-04-13T17:34:51.703422Z"
    }
   },
   "outputs": [],
   "source": [
    "#stack\n",
    "# What is stack?\n"
   ]
  },
  {
   "cell_type": "code",
   "execution_count": 11,
   "metadata": {
    "ExecuteTime": {
     "end_time": "2020-04-13T20:05:32.678742Z",
     "start_time": "2020-04-13T20:05:32.672785Z"
    }
   },
   "outputs": [],
   "source": [
    "#stack implementation using list\n",
    "class stack:\n",
    "    def __init__(self):\n",
    "        self.items = []\n",
    "    def is_empty(self):\n",
    "        return self.items == []\n",
    "    def push(self, item):\n",
    "        self.items.append(item)\n",
    "    def pop(self):\n",
    "        return self.items.pop()\n",
    "    def peak(self):\n",
    "        return self.items[len(self.items)-1]\n",
    "    def size(self):\n",
    "        return len(self.items)"
   ]
  },
  {
   "cell_type": "code",
   "execution_count": 14,
   "metadata": {
    "ExecuteTime": {
     "end_time": "2020-04-13T20:09:11.500376Z",
     "start_time": "2020-04-13T20:09:11.492386Z"
    }
   },
   "outputs": [
    {
     "name": "stdout",
     "output_type": "stream",
     "text": [
      "True\n",
      "dog\n",
      "3\n",
      "False\n",
      "8.4\n",
      "True\n",
      "2\n"
     ]
    }
   ],
   "source": [
    "s = stack()\n",
    "\n",
    "print(s.is_empty())\n",
    "s.push(4)\n",
    "s.push('dog')\n",
    "print(s.peak())\n",
    "s.push(True)\n",
    "print(s.size())\n",
    "print(s.is_empty())\n",
    "s.push(8.4)\n",
    "print(s.pop())\n",
    "print(s.pop())\n",
    "print(s.size())"
   ]
  },
  {
   "cell_type": "code",
   "execution_count": 23,
   "metadata": {
    "ExecuteTime": {
     "end_time": "2020-04-13T21:01:10.552802Z",
     "start_time": "2020-04-13T21:01:10.547815Z"
    }
   },
   "outputs": [],
   "source": [
    "#self check\n",
    "m = stack()\n",
    "m.push('x')\n",
    "m.push('y')\n",
    "m.push('z')\n",
    "\n",
    "while not m.is_empty():\n",
    "    m.pop()\n",
    "    #m.pop()"
   ]
  },
  {
   "cell_type": "code",
   "execution_count": 26,
   "metadata": {
    "ExecuteTime": {
     "end_time": "2020-04-13T21:01:20.199219Z",
     "start_time": "2020-04-13T21:01:20.188249Z"
    }
   },
   "outputs": [
    {
     "ename": "AttributeError",
     "evalue": "'stack' object has no attribute 'peek'",
     "output_type": "error",
     "traceback": [
      "\u001b[1;31m---------------------------------------------------------------------------\u001b[0m",
      "\u001b[1;31mAttributeError\u001b[0m                            Traceback (most recent call last)",
      "\u001b[1;32m<ipython-input-26-6ee7e699034e>\u001b[0m in \u001b[0;36m<module>\u001b[1;34m\u001b[0m\n\u001b[1;32m----> 1\u001b[1;33m \u001b[0mm\u001b[0m\u001b[1;33m.\u001b[0m\u001b[0mpeek\u001b[0m\u001b[1;33m(\u001b[0m\u001b[1;33m)\u001b[0m\u001b[1;33m\u001b[0m\u001b[1;33m\u001b[0m\u001b[0m\n\u001b[0m",
      "\u001b[1;31mAttributeError\u001b[0m: 'stack' object has no attribute 'peek'"
     ]
    }
   ],
   "source": []
  },
  {
   "cell_type": "code",
   "execution_count": 35,
   "metadata": {
    "ExecuteTime": {
     "end_time": "2020-04-13T21:06:08.510672Z",
     "start_time": "2020-04-13T21:06:08.504649Z"
    }
   },
   "outputs": [],
   "source": [
    "def rev_str(my_str):\n",
    "    s = stack()\n",
    "    for i in my_str:\n",
    "        s.push(i)\n",
    "    rev_str = ''\n",
    "    for j in range(len(my_str)):\n",
    "        rev_str += s.peak()\n",
    "        s.pop()\n",
    "    return rev_str"
   ]
  },
  {
   "cell_type": "code",
   "execution_count": 36,
   "metadata": {
    "ExecuteTime": {
     "end_time": "2020-04-13T21:06:08.777072Z",
     "start_time": "2020-04-13T21:06:08.773080Z"
    }
   },
   "outputs": [
    {
     "data": {
      "text/plain": [
       "'edcba'"
      ]
     },
     "execution_count": 36,
     "metadata": {},
     "output_type": "execute_result"
    }
   ],
   "source": [
    "rev_str('abcde')"
   ]
  },
  {
   "cell_type": "code",
   "execution_count": 39,
   "metadata": {
    "ExecuteTime": {
     "end_time": "2020-04-13T21:41:08.834343Z",
     "start_time": "2020-04-13T21:41:08.827362Z"
    }
   },
   "outputs": [
    {
     "name": "stdout",
     "output_type": "stream",
     "text": [
      "True\n",
      "False\n"
     ]
    }
   ],
   "source": [
    "# parenthesis checker\n",
    "def par_checker(symbol_string):\n",
    "    s = stack()\n",
    "    balanced = True\n",
    "    index = 0\n",
    "    while index < len(symbol_string) and balanced:\n",
    "        symbol = symbol_string[index]\n",
    "        if symbol == '(':\n",
    "            s.push(symbol)\n",
    "        else:\n",
    "            if s.is_empty():\n",
    "                balanced = False\n",
    "            else:\n",
    "                s.pop()\n",
    "        index += 1\n",
    "    if s.is_empty() and balanced:\n",
    "        return True\n",
    "    else:\n",
    "        return False\n",
    "\n",
    "print(par_checker('((()))'))\n",
    "print(par_checker('(()'))"
   ]
  },
  {
   "cell_type": "code",
   "execution_count": null,
   "metadata": {},
   "outputs": [],
   "source": [
    "# Completed extended par_checker for: [,{,(,),},]\n",
    "\n",
    "def par_checker(symbol_string):\n",
    "    s = Stack()\n",
    "    balanced = True\n",
    "    index = 0\n",
    "    while index < len(symbol_string) and balanced:\n",
    "        symbol = symbol_string[index]\n",
    "        if symbol in \"([{\":\n",
    "            s.push(symbol)\n",
    "        else:\n",
    "            if s.is_empty():\n",
    "                balanced = False\n",
    "            else:\n",
    "                top = s.pop()\n",
    "    if not matches(top, symbol):\n",
    "        balanced = False\n",
    "    index = index + 1\n",
    "    if balanced and s.is_empty():\n",
    "        return True\n",
    "    else:\n",
    "        return False\n",
    "\n",
    "    def matches(open, close):\n",
    "        opens = \"([{\"\n",
    "        closes = \")]}\"\n",
    "        return opens.index(open) == closes.index(close)\n",
    "\n",
    "print(par_checker('{{([][])}()}'))\n",
    "print(par_checker('[{()]'))"
   ]
  },
  {
   "cell_type": "code",
   "execution_count": null,
   "metadata": {},
   "outputs": [],
   "source": []
  },
  {
   "cell_type": "code",
   "execution_count": null,
   "metadata": {},
   "outputs": [],
   "source": []
  },
  {
   "cell_type": "code",
   "execution_count": null,
   "metadata": {},
   "outputs": [],
   "source": []
  },
  {
   "cell_type": "code",
   "execution_count": null,
   "metadata": {},
   "outputs": [],
   "source": []
  },
  {
   "cell_type": "code",
   "execution_count": null,
   "metadata": {},
   "outputs": [],
   "source": []
  },
  {
   "cell_type": "code",
   "execution_count": null,
   "metadata": {},
   "outputs": [],
   "source": []
  }
 ],
 "metadata": {
  "kernelspec": {
   "display_name": "Python 3",
   "language": "python",
   "name": "python3"
  },
  "language_info": {
   "codemirror_mode": {
    "name": "ipython",
    "version": 3
   },
   "file_extension": ".py",
   "mimetype": "text/x-python",
   "name": "python",
   "nbconvert_exporter": "python",
   "pygments_lexer": "ipython3",
   "version": "3.6.10"
  },
  "toc": {
   "base_numbering": 1,
   "nav_menu": {},
   "number_sections": true,
   "sideBar": true,
   "skip_h1_title": false,
   "title_cell": "Table of Contents",
   "title_sidebar": "Contents",
   "toc_cell": false,
   "toc_position": {},
   "toc_section_display": true,
   "toc_window_display": false
  }
 },
 "nbformat": 4,
 "nbformat_minor": 4
}
