{
 "cells": [
  {
   "cell_type": "code",
   "execution_count": 1,
   "metadata": {
    "ExecuteTime": {
     "end_time": "2020-04-14T21:55:27.067444Z",
     "start_time": "2020-04-14T21:55:27.064472Z"
    }
   },
   "outputs": [],
   "source": [
    "#LeetCode 1221. Split a String in Balanced Strings\n",
    "# Easy"
   ]
  },
  {
   "cell_type": "code",
   "execution_count": 9,
   "metadata": {
    "ExecuteTime": {
     "end_time": "2020-04-14T22:16:38.016970Z",
     "start_time": "2020-04-14T22:16:38.010987Z"
    }
   },
   "outputs": [],
   "source": [
    "\n",
    "class Solution:\n",
    "    # My solution\n",
    "    def balancedStringSplit1(self, s: str) -> int:\n",
    "        stack = []\n",
    "        balanced = 0\n",
    "        #stack.append(s[0])\n",
    "        \n",
    "        for i in range(len(s)):\n",
    "            stack.append(s[i])\n",
    "            \n",
    "            if stack.count('R') == stack.count('L'): \n",
    "                balanced += 1\n",
    "                stack.clear()\n",
    "            \n",
    "        return balanced\n",
    "    \n",
    "    # Other solutions\n",
    "    def balancedStringSplit2(self, S: str) -> int:\n",
    "        m = c = 0\n",
    "        for s in S:\n",
    "            if s == 'L': c += 1\n",
    "            if s == 'R': c -= 1\n",
    "            if c == 0: m += 1\n",
    "        return m"
   ]
  },
  {
   "cell_type": "code",
   "execution_count": null,
   "metadata": {
    "ExecuteTime": {
     "end_time": "2020-04-14T22:04:48.640214Z",
     "start_time": "2020-04-14T22:04:48.636203Z"
    }
   },
   "outputs": [],
   "source": [
    "# Other solutions\n",
    "def balancedStringSplit(self, s):\n",
    "    return sum(s[:i].count('L') * 2 == i for i in range(len(s)))"
   ]
  },
  {
   "cell_type": "code",
   "execution_count": 12,
   "metadata": {
    "ExecuteTime": {
     "end_time": "2020-04-14T22:17:58.454627Z",
     "start_time": "2020-04-14T22:17:58.449620Z"
    }
   },
   "outputs": [
    {
     "data": {
      "text/plain": [
       "7"
      ]
     },
     "execution_count": 12,
     "metadata": {},
     "output_type": "execute_result"
    }
   ],
   "source": [
    "Solution().balancedStringSplit1(\"RLRRLLRLRLRRLLLLLLRRRLRLRLRRRL\")"
   ]
  },
  {
   "cell_type": "code",
   "execution_count": 13,
   "metadata": {
    "ExecuteTime": {
     "end_time": "2020-04-14T22:18:00.860587Z",
     "start_time": "2020-04-14T22:18:00.856596Z"
    }
   },
   "outputs": [
    {
     "data": {
      "text/plain": [
       "7"
      ]
     },
     "execution_count": 13,
     "metadata": {},
     "output_type": "execute_result"
    }
   ],
   "source": [
    "Solution().balancedStringSplit2(\"RLRRLLRLRLRRLLLLLLRRRLRLRLRRRL\")"
   ]
  },
  {
   "cell_type": "code",
   "execution_count": null,
   "metadata": {},
   "outputs": [],
   "source": []
  },
  {
   "cell_type": "code",
   "execution_count": null,
   "metadata": {},
   "outputs": [],
   "source": []
  },
  {
   "cell_type": "code",
   "execution_count": null,
   "metadata": {},
   "outputs": [],
   "source": []
  },
  {
   "cell_type": "code",
   "execution_count": null,
   "metadata": {},
   "outputs": [],
   "source": []
  },
  {
   "cell_type": "code",
   "execution_count": null,
   "metadata": {},
   "outputs": [],
   "source": []
  },
  {
   "cell_type": "code",
   "execution_count": null,
   "metadata": {},
   "outputs": [],
   "source": []
  },
  {
   "cell_type": "code",
   "execution_count": null,
   "metadata": {},
   "outputs": [],
   "source": []
  },
  {
   "cell_type": "code",
   "execution_count": null,
   "metadata": {},
   "outputs": [],
   "source": []
  },
  {
   "cell_type": "code",
   "execution_count": null,
   "metadata": {},
   "outputs": [],
   "source": []
  }
 ],
 "metadata": {
  "kernelspec": {
   "display_name": "Python 3",
   "language": "python",
   "name": "python3"
  },
  "language_info": {
   "codemirror_mode": {
    "name": "ipython",
    "version": 3
   },
   "file_extension": ".py",
   "mimetype": "text/x-python",
   "name": "python",
   "nbconvert_exporter": "python",
   "pygments_lexer": "ipython3",
   "version": "3.6.10"
  },
  "toc": {
   "base_numbering": 1,
   "nav_menu": {},
   "number_sections": true,
   "sideBar": true,
   "skip_h1_title": false,
   "title_cell": "Table of Contents",
   "title_sidebar": "Contents",
   "toc_cell": false,
   "toc_position": {},
   "toc_section_display": true,
   "toc_window_display": false
  }
 },
 "nbformat": 4,
 "nbformat_minor": 4
}
