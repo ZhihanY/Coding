{
 "cells": [
  {
   "cell_type": "code",
   "execution_count": null,
   "metadata": {},
   "outputs": [],
   "source": [
    "#LeetCode 819. Most Common Word\n",
    "#Easy"
   ]
  },
  {
   "cell_type": "code",
   "execution_count": 35,
   "metadata": {
    "ExecuteTime": {
     "end_time": "2020-04-20T21:58:53.247628Z",
     "start_time": "2020-04-20T21:58:53.240648Z"
    }
   },
   "outputs": [],
   "source": [
    "class Solution:\n",
    "    def mostCommonWord(self, paragraph: str, banned) -> str:\n",
    "        import re\n",
    "        from collections import Counter\n",
    "        \n",
    "        paragraph = re.sub('[^a-zA-Z0-9]+', ' ', paragraph)\n",
    "        word_list = paragraph.lower().split(' ')\n",
    "        cnt = Counter()\n",
    "        \n",
    "        if (len(word_list) == 1) and (word_list[0] not in banned):\n",
    "            return word_list[0]\n",
    "        else:\n",
    "            for i in word_list:\n",
    "                #word_dict[word_list[i]]\n",
    "                if i not in banned:\n",
    "                    cnt[i] += 1\n",
    "            return cnt.most_common(1)[0][0]\n",
    "        \n",
    "        return None            "
   ]
  },
  {
   "cell_type": "code",
   "execution_count": 36,
   "metadata": {
    "ExecuteTime": {
     "end_time": "2020-04-20T21:58:53.337998Z",
     "start_time": "2020-04-20T21:58:53.334002Z"
    }
   },
   "outputs": [
    {
     "data": {
      "text/plain": [
       "[]"
      ]
     },
     "execution_count": 36,
     "metadata": {},
     "output_type": "execute_result"
    }
   ],
   "source": [
    "Solution().mostCommonWord(\n",
    "    paragraph = \"Bob hit a ball, the hit BALL flew far after it was hit.\" ,\n",
    "    banned = [\"hit\"]\n",
    ")"
   ]
  },
  {
   "cell_type": "code",
   "execution_count": null,
   "metadata": {},
   "outputs": [],
   "source": [
    "# Other solutions\n",
    "from collections import Counter\n",
    "import string\n",
    "class Solution:\n",
    "    def mostCommonWord(self, paragraph: str, banned: List[str]) -> str:\n",
    "        repCom = paragraph.lower().replace(',', \" \")\n",
    "        words = repCom.split()\n",
    "        table = str.maketrans('', '', string.punctuation)\n",
    "        stripped = [w.translate(table) for w in words]\n",
    "        cnt = Counter(stripped)\n",
    "        common = cnt.most_common(len(words))\n",
    "        for wordTuple in common:\n",
    "            if wordTuple[0] not in banned:\n",
    "                return wordTuple[0]\n",
    "            \n",
    "    def mostCommonWord(self, paragraph: str, banned: List[str]) -> str:\n",
    "        paragraph = re.sub(r'[^a-zA-Z ]', ' ', paragraph)\n",
    "        dic1 = {}\n",
    "        list1 = paragraph.lower().split()\n",
    "        for word in list1:\n",
    "            if word not in banned:\n",
    "                if word not in dic1:\n",
    "                    dic1[word] = 1\n",
    "                else:\n",
    "                    dic1[word] += 1\n",
    "        for key, value in dic1.items():\n",
    "            if value == max(dic1.values()):\n",
    "                return key"
   ]
  },
  {
   "cell_type": "code",
   "execution_count": null,
   "metadata": {},
   "outputs": [],
   "source": [
    "\n"
   ]
  },
  {
   "cell_type": "code",
   "execution_count": null,
   "metadata": {},
   "outputs": [],
   "source": []
  },
  {
   "cell_type": "code",
   "execution_count": null,
   "metadata": {},
   "outputs": [],
   "source": []
  },
  {
   "cell_type": "code",
   "execution_count": null,
   "metadata": {},
   "outputs": [],
   "source": []
  },
  {
   "cell_type": "code",
   "execution_count": null,
   "metadata": {},
   "outputs": [],
   "source": []
  },
  {
   "cell_type": "code",
   "execution_count": null,
   "metadata": {},
   "outputs": [],
   "source": []
  },
  {
   "cell_type": "code",
   "execution_count": null,
   "metadata": {},
   "outputs": [],
   "source": []
  }
 ],
 "metadata": {
  "kernelspec": {
   "display_name": "Python 3",
   "language": "python",
   "name": "python3"
  },
  "language_info": {
   "codemirror_mode": {
    "name": "ipython",
    "version": 3
   },
   "file_extension": ".py",
   "mimetype": "text/x-python",
   "name": "python",
   "nbconvert_exporter": "python",
   "pygments_lexer": "ipython3",
   "version": "3.6.10"
  },
  "toc": {
   "base_numbering": 1,
   "nav_menu": {},
   "number_sections": true,
   "sideBar": true,
   "skip_h1_title": false,
   "title_cell": "Table of Contents",
   "title_sidebar": "Contents",
   "toc_cell": false,
   "toc_position": {},
   "toc_section_display": true,
   "toc_window_display": false
  }
 },
 "nbformat": 4,
 "nbformat_minor": 4
}
