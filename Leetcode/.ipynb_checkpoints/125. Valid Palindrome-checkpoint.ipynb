{
 "cells": [
  {
   "cell_type": "code",
   "execution_count": null,
   "metadata": {},
   "outputs": [],
   "source": [
    "#125. Valid Palindrome\n",
    "#Easy"
   ]
  },
  {
   "cell_type": "code",
   "execution_count": 5,
   "metadata": {
    "ExecuteTime": {
     "end_time": "2020-04-19T18:03:00.720025Z",
     "start_time": "2020-04-19T18:03:00.715039Z"
    }
   },
   "outputs": [],
   "source": [
    "class Solution:\n",
    "    def isPalindrome(self, s: str) -> bool:\n",
    "        import re\n",
    "        s = re.sub('[^a-zA-Z0-9]', '', s).lower()\n",
    "        \n",
    "        if s == '':\n",
    "            return True\n",
    "        if len(s) == 1:\n",
    "            return True\n",
    "        \n",
    "        \n",
    "        for i in range(len(s) // 2):\n",
    "            if s[i] != s[len(s) - i -1]:\n",
    "                return False\n",
    "            \n",
    "        return True\n",
    "                \n",
    "        "
   ]
  },
  {
   "cell_type": "code",
   "execution_count": null,
   "metadata": {
    "ExecuteTime": {
     "end_time": "2020-04-19T18:03:01.055388Z",
     "start_time": "2020-04-19T18:03:01.049405Z"
    }
   },
   "outputs": [],
   "source": [
    "# Other solutions\n",
    "class Solution:\n",
    "    def isPalindrome(self, s: str) -> bool:\n",
    "        \n",
    "        if len(s)==1:\n",
    "            return True\n",
    "        k=\"\"\n",
    "        for i in range(len(s)):\n",
    "            if s[i].isalnum():\n",
    "                k+=s[i].lower()\n",
    "        \n",
    "        #print(k)\n",
    "        if k==\"\":\n",
    "            return True\n",
    "        \n",
    "        if k==k[::-1]:\n",
    "            return True\n",
    "        \n",
    "        if len(k)==1:\n",
    "            return False\n",
    "        return False"
   ]
  },
  {
   "cell_type": "code",
   "execution_count": null,
   "metadata": {
    "ExecuteTime": {
     "end_time": "2020-04-19T18:00:33.217668Z",
     "start_time": "2020-04-19T18:00:33.210687Z"
    }
   },
   "outputs": [],
   "source": []
  },
  {
   "cell_type": "code",
   "execution_count": null,
   "metadata": {},
   "outputs": [],
   "source": []
  },
  {
   "cell_type": "code",
   "execution_count": null,
   "metadata": {},
   "outputs": [],
   "source": []
  },
  {
   "cell_type": "code",
   "execution_count": null,
   "metadata": {},
   "outputs": [],
   "source": []
  },
  {
   "cell_type": "code",
   "execution_count": null,
   "metadata": {},
   "outputs": [],
   "source": []
  },
  {
   "cell_type": "code",
   "execution_count": null,
   "metadata": {},
   "outputs": [],
   "source": []
  },
  {
   "cell_type": "code",
   "execution_count": null,
   "metadata": {},
   "outputs": [],
   "source": []
  },
  {
   "cell_type": "code",
   "execution_count": null,
   "metadata": {},
   "outputs": [],
   "source": []
  },
  {
   "cell_type": "code",
   "execution_count": null,
   "metadata": {},
   "outputs": [],
   "source": []
  },
  {
   "cell_type": "code",
   "execution_count": null,
   "metadata": {},
   "outputs": [],
   "source": []
  }
 ],
 "metadata": {
  "kernelspec": {
   "display_name": "Python 3",
   "language": "python",
   "name": "python3"
  },
  "language_info": {
   "codemirror_mode": {
    "name": "ipython",
    "version": 3
   },
   "file_extension": ".py",
   "mimetype": "text/x-python",
   "name": "python",
   "nbconvert_exporter": "python",
   "pygments_lexer": "ipython3",
   "version": "3.6.10"
  },
  "toc": {
   "base_numbering": 1,
   "nav_menu": {},
   "number_sections": true,
   "sideBar": true,
   "skip_h1_title": false,
   "title_cell": "Table of Contents",
   "title_sidebar": "Contents",
   "toc_cell": false,
   "toc_position": {},
   "toc_section_display": true,
   "toc_window_display": false
  }
 },
 "nbformat": 4,
 "nbformat_minor": 4
}
